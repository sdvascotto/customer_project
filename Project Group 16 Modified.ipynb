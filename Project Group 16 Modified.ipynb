{
 "cells": [
  {
   "cell_type": "markdown",
   "id": "787901d2",
   "metadata": {},
   "source": [
    "# Preprocessing"
   ]
  },
  {
   "cell_type": "code",
   "execution_count": 31,
   "id": "6b0d8f85",
   "metadata": {},
   "outputs": [],
   "source": [
    "# Link below contains information about building an environment from a .YML file\n",
    "# Make sure to activate the environment before opening the notebook\n",
    "# https://shandou.medium.com/export-and-create-conda-environment-with-yml-5de619fe5a2"
   ]
  },
  {
   "cell_type": "code",
   "execution_count": 32,
   "id": "5d264af9",
   "metadata": {},
   "outputs": [],
   "source": [
    "import numpy as np\n",
    "import pandas as pd\n",
    "import seaborn as sns\n",
    "import warnings\n",
    "\n",
    "warnings.filterwarnings(\"ignore\")"
   ]
  },
  {
   "cell_type": "code",
   "execution_count": 33,
   "id": "e604221f",
   "metadata": {
    "scrolled": false
   },
   "outputs": [],
   "source": [
    "import os\n",
    "\n",
    "def readFile(wd, filename):\n",
    "    try:    \n",
    "        path = os.path.join(wd, \"data\", filename)\n",
    "        file = pd.read_csv(path)\n",
    "    except FileNotFoundError:\n",
    "        print(\"Could not read file - Please check filepath\")\n",
    "        raise\n",
    "    return file\n",
    "\n",
    "wd = os.getcwd()\n",
    "train = pd.read_csv(\"training_data.csv\")\n",
    "test = pd.read_csv(\"eval_data.csv\")"
   ]
  },
  {
   "cell_type": "markdown",
   "id": "efb8b38a",
   "metadata": {
    "heading_collapsed": true
   },
   "source": [
    "## Pre-processing\n",
    "\n",
    "pre-process the sessions (you can execute these tasks in the order you prefer, but make sure to specify which task is being solved in which block of code):\n",
    "1. sessionise <font color='red'>(1pt)</font>\n",
    "1. select sessions with at least one add-to-cart <font color='red'>(1pt)</font>\n",
    "1. add class labels: treat purchase as the positive class <font color='red'>(1pt)</font>\n",
    "1. cut purchase sessions to the last event before the first purchase <font color='red'>(1pt)</font>\n",
    "1. remove sessions shorter than 5 and longer than 155 clicks <font color='red'>(1pt)</font>\n",
    "1. symbolise actions <font color='red'>(1pt)</font>\n"
   ]
  },
  {
   "cell_type": "code",
   "execution_count": 34,
   "id": "08a869c2",
   "metadata": {
    "hidden": true,
    "scrolled": true
   },
   "outputs": [],
   "source": [
    "# Sessionise:\n",
    "# derive sessions from action by action dataset\n",
    "# merge all the actions by session_id\n",
    "\n",
    "def sessionize(df):\n",
    "    df['product_action'] = df['product_action'].fillna('view')\n",
    "    df = df.groupby('session_id_hash')['product_action'].agg(list).reset_index()\n",
    "    return df\n",
    "\n",
    "train = sessionize(train)\n",
    "test = sessionize(test)"
   ]
  },
  {
   "cell_type": "code",
   "execution_count": 35,
   "id": "c4fa81e7",
   "metadata": {
    "hidden": true,
    "scrolled": false
   },
   "outputs": [],
   "source": [
    "##  Label purchase sessions\n",
    "\n",
    "def labelSet(df):\n",
    "    df['purchase'] = np.where(df.product_action.map(set(['purchase']).issubset), 1, 0)\n",
    "    return df\n",
    "\n",
    "train = labelSet(train)\n",
    "test = labelSet(test)"
   ]
  },
  {
   "cell_type": "code",
   "execution_count": 36,
   "id": "aaeb105d",
   "metadata": {
    "hidden": true,
    "scrolled": true
   },
   "outputs": [],
   "source": [
    "### Cut actions before purchase if there is one\n",
    "### keep the full sesssion if there is not\n",
    "\n",
    "def sliceSessions(df):\n",
    "    df['product_action'] = df['product_action'].map(lambda x: x[0:x.index('purchase')] if 'purchase' in x else x)\n",
    "\n",
    "    ## select sessions with at least one add-to-cart\n",
    "    df = df[df.product_action.map(lambda x: \"add\" in x)]\n",
    "\n",
    "    ### Filtered out outliers which > 155 or < 5.    \n",
    "\n",
    "    df[\"len\"] = df[\"product_action\"].map(len)\n",
    "\n",
    "    # removing very short and very long sessions\n",
    "    df.drop(df[df.len < 5].index, inplace=True)\n",
    "    df.drop(df[df.len > 155].index, inplace=True)\n",
    "    \n",
    "    return df\n",
    "\n",
    "train = sliceSessions(train)\n",
    "test = sliceSessions(test)"
   ]
  },
  {
   "cell_type": "code",
   "execution_count": 37,
   "id": "feafddc2",
   "metadata": {
    "hidden": true
   },
   "outputs": [
    {
     "name": "stdout",
     "output_type": "stream",
     "text": [
      "0\n",
      "0\n"
     ]
    }
   ],
   "source": [
    "## Sanity check: the output should be True\n",
    "def checkFaultySessions(df):\n",
    "    print(df[df.product_action.map(lambda x: \"add\" not in x)].shape[0])\n",
    "    \n",
    "checkFaultySessions(train)\n",
    "checkFaultySessions(test)"
   ]
  },
  {
   "cell_type": "code",
   "execution_count": 38,
   "id": "60ac4d6b",
   "metadata": {
    "hidden": true
   },
   "outputs": [
    {
     "name": "stdout",
     "output_type": "stream",
     "text": [
      "Symbol alphabet:  {'view': 1, 'detail': 2, 'add': 3, 'remove': 4}\n"
     ]
    },
    {
     "data": {
      "text/html": [
       "<div>\n",
       "<style scoped>\n",
       "    .dataframe tbody tr th:only-of-type {\n",
       "        vertical-align: middle;\n",
       "    }\n",
       "\n",
       "    .dataframe tbody tr th {\n",
       "        vertical-align: top;\n",
       "    }\n",
       "\n",
       "    .dataframe thead th {\n",
       "        text-align: right;\n",
       "    }\n",
       "</style>\n",
       "<table border=\"1\" class=\"dataframe\">\n",
       "  <thead>\n",
       "    <tr style=\"text-align: right;\">\n",
       "      <th></th>\n",
       "      <th>session_id_hash</th>\n",
       "      <th>product_action</th>\n",
       "      <th>purchase</th>\n",
       "      <th>len</th>\n",
       "      <th>session</th>\n",
       "    </tr>\n",
       "  </thead>\n",
       "  <tbody>\n",
       "    <tr>\n",
       "      <th>1</th>\n",
       "      <td>000010504025397b03290c7457e0e7ef7ae93529f21eae...</td>\n",
       "      <td>[detail, view, detail, view, detail, view, vie...</td>\n",
       "      <td>0</td>\n",
       "      <td>81</td>\n",
       "      <td>[2, 1, 2, 1, 2, 1, 1, 2, 1, 1, 1, 2, 2, 1, 2, ...</td>\n",
       "    </tr>\n",
       "    <tr>\n",
       "      <th>35</th>\n",
       "      <td>0002cc06d46d4835503b88e9eed2c8fc1ae97f5cc262a9...</td>\n",
       "      <td>[view, detail, detail, view, add, view, view, ...</td>\n",
       "      <td>0</td>\n",
       "      <td>18</td>\n",
       "      <td>[1, 2, 2, 1, 3, 1, 1, 1, 1, 1, 1, 1, 1, 1, 2, ...</td>\n",
       "    </tr>\n",
       "    <tr>\n",
       "      <th>40</th>\n",
       "      <td>00030ffeaf340fe2ef44c91bca1a7cffd5f07d1a44a081...</td>\n",
       "      <td>[view, detail, add, view, remove, add, remove,...</td>\n",
       "      <td>0</td>\n",
       "      <td>28</td>\n",
       "      <td>[1, 2, 3, 1, 4, 3, 4, 1, 1, 1, 2, 1, 2, 1, 2, ...</td>\n",
       "    </tr>\n",
       "    <tr>\n",
       "      <th>58</th>\n",
       "      <td>0004be10f232d2ebd86be1c1c46dcf741ee77651bc550d...</td>\n",
       "      <td>[view, view, view, view, view, view, view, det...</td>\n",
       "      <td>0</td>\n",
       "      <td>15</td>\n",
       "      <td>[1, 1, 1, 1, 1, 1, 1, 2, 1, 3, 1, 1, 2, 3, 1]</td>\n",
       "    </tr>\n",
       "    <tr>\n",
       "      <th>74</th>\n",
       "      <td>0005ea00d00f64fbfaaa8b110f268025ba8ad963d8fdd3...</td>\n",
       "      <td>[view, view, view, view, view, view, detail, v...</td>\n",
       "      <td>0</td>\n",
       "      <td>50</td>\n",
       "      <td>[1, 1, 1, 1, 1, 1, 2, 1, 1, 1, 2, 1, 2, 1, 1, ...</td>\n",
       "    </tr>\n",
       "  </tbody>\n",
       "</table>\n",
       "</div>"
      ],
      "text/plain": [
       "                                      session_id_hash  \\\n",
       "1   000010504025397b03290c7457e0e7ef7ae93529f21eae...   \n",
       "35  0002cc06d46d4835503b88e9eed2c8fc1ae97f5cc262a9...   \n",
       "40  00030ffeaf340fe2ef44c91bca1a7cffd5f07d1a44a081...   \n",
       "58  0004be10f232d2ebd86be1c1c46dcf741ee77651bc550d...   \n",
       "74  0005ea00d00f64fbfaaa8b110f268025ba8ad963d8fdd3...   \n",
       "\n",
       "                                       product_action  purchase  len  \\\n",
       "1   [detail, view, detail, view, detail, view, vie...         0   81   \n",
       "35  [view, detail, detail, view, add, view, view, ...         0   18   \n",
       "40  [view, detail, add, view, remove, add, remove,...         0   28   \n",
       "58  [view, view, view, view, view, view, view, det...         0   15   \n",
       "74  [view, view, view, view, view, view, detail, v...         0   50   \n",
       "\n",
       "                                              session  \n",
       "1   [2, 1, 2, 1, 2, 1, 1, 2, 1, 1, 1, 2, 2, 1, 2, ...  \n",
       "35  [1, 2, 2, 1, 3, 1, 1, 1, 1, 1, 1, 1, 1, 1, 2, ...  \n",
       "40  [1, 2, 3, 1, 4, 3, 4, 1, 1, 1, 2, 1, 2, 1, 2, ...  \n",
       "58      [1, 1, 1, 1, 1, 1, 1, 2, 1, 3, 1, 1, 2, 3, 1]  \n",
       "74  [1, 1, 1, 1, 1, 1, 2, 1, 1, 1, 2, 1, 2, 1, 1, ...  "
      ]
     },
     "execution_count": 38,
     "metadata": {},
     "output_type": "execute_result"
    }
   ],
   "source": [
    "## symbolise actions, based on practical session 1\n",
    "from collections import Counter\n",
    "def symbolize(df, symbol2idx=None):\n",
    "    sessions = df['product_action'].to_list()\n",
    "    labels = df['purchase'].to_list()\n",
    "    \n",
    "    if symbol2idx == None:\n",
    "        counts = Counter([item for session in sessions for item in session])\n",
    "        symbol2idx = {symbol: idx for idx, symbol in enumerate(sorted(counts, key=counts.get, reverse=True), 1)}\n",
    "        print(\"Symbol alphabet: \", symbol2idx)\n",
    "\n",
    "    df[\"session\"]=df[\"product_action\"].map(lambda session: [symbol2idx[s] for s in session])\n",
    "    \n",
    "    return df, symbol2idx\n",
    "\n",
    "train, symbol2idx = symbolize(train)\n",
    "test, _ = symbolize(test, symbol2idx)\n",
    "test.head()"
   ]
  },
  {
   "cell_type": "code",
   "execution_count": 39,
   "id": "a43c66be",
   "metadata": {
    "hidden": true,
    "scrolled": true
   },
   "outputs": [
    {
     "data": {
      "text/plain": [
       "{'view': 1, 'detail': 2, 'add': 3, 'remove': 4}"
      ]
     },
     "execution_count": 39,
     "metadata": {},
     "output_type": "execute_result"
    }
   ],
   "source": [
    "## Check the symbolisation\n",
    "symbol2idx"
   ]
  },
  {
   "cell_type": "markdown",
   "id": "9f8a751d",
   "metadata": {
    "heading_collapsed": true
   },
   "source": [
    "## Oracle model"
   ]
  },
  {
   "cell_type": "code",
   "execution_count": 40,
   "id": "ef562890",
   "metadata": {
    "hidden": true
   },
   "outputs": [],
   "source": [
    "from sklearn import metrics\n",
    "\n",
    "def oracle(X_train, y_train):\n",
    "    '''\n",
    "    This function return a oracle model based on the session and label.\n",
    "    '''\n",
    "    from collections import defaultdict\n",
    "\n",
    "    d = defaultdict(lambda: defaultdict(int))\n",
    "    for s, l in zip(X_train, y_train):\n",
    "        d[str(tuple(s))][l] += 1\n",
    "        \n",
    "    model = {}\n",
    "    for session in d.keys():\n",
    "        n_buy, n_ws = 0, 0\n",
    "        for label in d[session].keys():\n",
    "            if label:\n",
    "                n_buy += d[session][label]\n",
    "            else:\n",
    "                n_ws += d[session][label]\n",
    "        model[session] = n_buy / (n_buy + n_ws)\n",
    "        \n",
    "    return model\n",
    "\n",
    "def oracle_predict(model, X_test, y_test=None):\n",
    "    '''\n",
    "    1. Make prediction on X_test.\n",
    "    2. For possibility >0.5 predict 1, else 0.\n",
    "    3. return prediction and F1 score\n",
    "    '''\n",
    "\n",
    "    y_pred = []\n",
    "    for x in X_test:\n",
    "        pos = model.get(str(x), \"#\") ## For sessions that not in the model, we assign it to #, and then predict 0.\n",
    "        y_pred.append(pos)\n",
    "        \n",
    "    ## count \"#\" first and substitute with 0\n",
    "    missing_rate = y_pred.count(\"#\")/len(y_pred)\n",
    "\n",
    "    y_pred = [1 if y != \"#\" and y >= 0.5 else 0 for y in y_pred]\n",
    "        \n",
    "    if y_test is not None:\n",
    "#         y_test = y_test.to_list()\n",
    "        f1 = metrics.f1_score(y_test, y_pred)\n",
    "        return(f1, missing_rate,y_pred)\n",
    "    else:\n",
    "        return y_pred"
   ]
  },
  {
   "cell_type": "code",
   "execution_count": 41,
   "id": "77f3ed2f",
   "metadata": {
    "hidden": true
   },
   "outputs": [
    {
     "data": {
      "text/plain": [
       "0.8706342991386061"
      ]
     },
     "execution_count": 41,
     "metadata": {},
     "output_type": "execute_result"
    }
   ],
   "source": [
    "## Oracle model for 5 clicks\n",
    "## Subset from the original test\n",
    "i = 5\n",
    "data = test[[\"session\", \"purchase\"]]\n",
    "data.session = test.session.map(lambda x: x[:x.index(3)+1+i] if len(x[x.index(3)+1:])>=i else None)\n",
    "data.session = test.session.map(tuple)\n",
    "data = data.dropna()\n",
    "    \n",
    "model = oracle(data.session, data.purchase)\n",
    "f1, missing_rate, prediction = oracle_predict(model, data.session, data.purchase)\n",
    "f1"
   ]
  },
  {
   "cell_type": "code",
   "execution_count": 42,
   "id": "e32033a9",
   "metadata": {
    "hidden": true
   },
   "outputs": [
    {
     "data": {
      "text/plain": [
       "0.8706342991386061"
      ]
     },
     "execution_count": 42,
     "metadata": {},
     "output_type": "execute_result"
    }
   ],
   "source": [
    "# oracle model for 10 clicks\n",
    "i = 10\n",
    "data = test[[\"session\", \"purchase\"]]\n",
    "data.session = test.session.map(lambda x: x[:x.index(3)+1+i] if len(x[x.index(3)+1:])>=i else None)\n",
    "data.session = test.session.map(tuple)\n",
    "data = data.dropna()\n",
    "    \n",
    "model = oracle(data.session, data.purchase)\n",
    "f1, missing_rate, prediction = oracle_predict(model, data.session, data.purchase)\n",
    "f1"
   ]
  },
  {
   "cell_type": "code",
   "execution_count": 43,
   "id": "863be33e",
   "metadata": {
    "hidden": true,
    "scrolled": false
   },
   "outputs": [
    {
     "data": {
      "text/plain": [
       "0.8706342991386061"
      ]
     },
     "execution_count": 43,
     "metadata": {},
     "output_type": "execute_result"
    }
   ],
   "source": [
    "# oracle model for 15 clicks\n",
    "i = 15\n",
    "data = test[[\"session\", \"purchase\"]]\n",
    "data.session = test.session.map(lambda x: x[:x.index(3)+1+i] if len(x[x.index(3)+1:])>=i else None)\n",
    "data.session = test.session.map(tuple)\n",
    "data = data.dropna()\n",
    "    \n",
    "model = oracle(data.session, data.purchase)\n",
    "f1, missing_rate, prediction = oracle_predict(model, data.session, data.purchase)\n",
    "f1"
   ]
  },
  {
   "cell_type": "markdown",
   "id": "033c5e35",
   "metadata": {
    "heading_collapsed": true
   },
   "source": [
    "## Subset by post-add-to-cart\n",
    "\n",
    "1. Subset data for n-click (n=5, 10, 15) models."
   ]
  },
  {
   "cell_type": "code",
   "execution_count": 44,
   "id": "6ac49b82",
   "metadata": {
    "hidden": true
   },
   "outputs": [],
   "source": [
    "## Get dataframe subsets\n",
    "## make the prediction for 5, 10 and 15, and store the f1 it in a dict\n",
    "from collections import defaultdict\n",
    "\n",
    "def makeSubset(df):\n",
    "    data = defaultdict(lambda: defaultdict())\n",
    "    \n",
    "    for i in [5, 10, 15]:    \n",
    "        ## Subset from the original df\n",
    "        temp = df[[\"session\", \"purchase\"]]\n",
    "        temp.session = temp.session.map(lambda x: x[:x.index(3)+1+i] if len(x[x.index(3)+1:])>=i else None)\n",
    "        temp = temp.dropna()\n",
    "        \n",
    "        data[f\"{i}_clicks\"][\"X\"] = temp.session.to_numpy()\n",
    "        data[f\"{i}_clicks\"][\"Y\"] = temp.purchase.to_numpy()\n",
    "    \n",
    "    return data\n",
    "\n",
    "train_data = makeSubset(train)\n",
    "test_data = makeSubset(test)"
   ]
  },
  {
   "cell_type": "code",
   "execution_count": 45,
   "id": "a6773f8e",
   "metadata": {
    "hidden": true
   },
   "outputs": [
    {
     "name": "stdout",
     "output_type": "stream",
     "text": [
      "   5_clicks  10_clicks  15_clicks\n",
      "X    107767      75887      55270\n",
      "Y    107767      75887      55270\n",
      "   5_clicks  10_clicks  15_clicks\n",
      "X     24969      17424      12704\n",
      "Y     24969      17424      12704\n"
     ]
    }
   ],
   "source": [
    "train_size = pd.DataFrame(train_data).applymap(len)\n",
    "test_size = pd.DataFrame(test_data).applymap(len)\n",
    "print(train_size)\n",
    "print(test_size)"
   ]
  },
  {
   "cell_type": "markdown",
   "id": "8159eccd",
   "metadata": {
    "heading_collapsed": true
   },
   "source": [
    "## Naive Bayes Model"
   ]
  },
  {
   "cell_type": "code",
   "execution_count": 46,
   "id": "b2f8be3e",
   "metadata": {
    "hidden": true
   },
   "outputs": [],
   "source": [
    "## Encode ngrams, code from practical session 2\n",
    "def ngram_featurizer(session, n=3):\n",
    "    \n",
    "    \"\"\"takes in a list and an integer defining the size of ngrams.\n",
    "     Returns the ngrams of desired size in the input string\"\"\"\n",
    "    \n",
    "    session = ['#']*(n-1) + session + ['+']*(n-1)\n",
    "    ngrams = [tuple(session[i:i+n]) for i in range(len(session)-n+1)]\n",
    "    \n",
    "    return ngrams\n",
    "    \n",
    "\n",
    "def encode_sessions(sessions,n=3, mapping=None):\n",
    "    \n",
    "    \"\"\"\n",
    "    Takes in a list of lists, an integer indicating the character ngrams' size,\n",
    "    and a dictionary mapping ngrams to numerical indices. If no dictionary is passed,\n",
    "    one is created inside the function.\n",
    "    The function outputs a 2d NumPy array with as many rows as there are strings in \n",
    "    the input list, and the mapping from ngrams to indices, representing the columns \n",
    "    of the NumPy array.\n",
    "    \"\"\"\n",
    "    \n",
    "    if not mapping:\n",
    "        all_ngrams = set()\n",
    "        for session in sessions:\n",
    "            all_ngrams = all_ngrams.union(set(ngram_featurizer(session, n)))\n",
    "    \n",
    "        mapping = {ngram: i for i, ngram in enumerate(all_ngrams)}\n",
    "    \n",
    "    X = np.zeros((len(sessions), len(mapping)))\n",
    "    for i, session in enumerate(sessions):\n",
    "        for ngram in ngram_featurizer(session, n):\n",
    "            try:\n",
    "                X[i, mapping[ngram]] += 1\n",
    "            except KeyError:\n",
    "                pass\n",
    "    \n",
    "    return X, mapping"
   ]
  },
  {
   "cell_type": "code",
   "execution_count": 47,
   "id": "89e6a71a",
   "metadata": {
    "hidden": true,
    "scrolled": true
   },
   "outputs": [],
   "source": [
    "from sklearn.naive_bayes import MultinomialNB\n",
    "\n",
    "score = {}\n",
    "for i in [5,10,15]:\n",
    "    sessions_train = train_data[f\"{i}_clicks\"][\"X\"]\n",
    "    labels_train = train_data[f\"{i}_clicks\"][\"Y\"]\n",
    "    \n",
    "    sessions_test = test_data[f\"{i}_clicks\"][\"X\"]\n",
    "    labels_test = test_data[f\"{i}_clicks\"][\"Y\"]\n",
    "\n",
    "    Xtrain, mapping = encode_sessions(sessions_train)\n",
    "    Xtest, _ = encode_sessions(sessions_test, mapping=mapping)\n",
    "\n",
    "    NB = MultinomialNB(alpha=1, fit_prior=True)\n",
    "    NB.fit(Xtrain,labels_train)\n",
    "    bayes_predictions = NB.predict(Xtest)\n",
    "    \n",
    "    f1 = metrics.f1_score(labels_test, bayes_predictions)\n",
    "    \n",
    "    score[f\"F1_{i}-clicks\"] = f1"
   ]
  },
  {
   "cell_type": "code",
   "execution_count": 48,
   "id": "d0e60380",
   "metadata": {
    "hidden": true,
    "scrolled": true
   },
   "outputs": [
    {
     "name": "stdout",
     "output_type": "stream",
     "text": [
      "{'F1_5-clicks': 0.3124876701519037, 'F1_10-clicks': 0.356648541769649, 'F1_15-clicks': 0.3699518032241981}\n"
     ]
    }
   ],
   "source": [
    "print(score)"
   ]
  },
  {
   "cell_type": "markdown",
   "id": "d005cf71",
   "metadata": {},
   "source": [
    "## Advanced Model: XGBoost Classifier"
   ]
  },
  {
   "cell_type": "code",
   "execution_count": 53,
   "id": "1522c1bf",
   "metadata": {},
   "outputs": [],
   "source": [
    "##################################5 CLICKS  XGBOOST MODEL ################################\n",
    "### Get the copy of the data\n",
    "from sklearn.utils import resample\n",
    "from sklearn.metrics import plot_confusion_matrix\n",
    "import matplotlib.pyplot as plt\n",
    "from sklearn.model_selection import GridSearchCV\n",
    "from xgboost.sklearn import XGBClassifier\n",
    "def xgboost_model(n_click = '5_clicks', downsample = True):\n",
    "    \n",
    "    X_train = train_data[n_click]['X']\n",
    "    y_train = train_data[n_click]['Y']\n",
    "    X_test = test_data[n_click]['X']\n",
    "    y_test = test_data[n_click]['Y']\n",
    "    \n",
    "    if downsample == True:  ##### If downsample is set to True, this part will run and resample the data\n",
    "        ### Downsampling the training data\n",
    "        ### And keep the test data in shape\n",
    "        temp = pd.DataFrame({\"session\": X_train, 'purchase': y_train})\n",
    "\n",
    "        class_0 = temp[temp.purchase == 0]\n",
    "        class_1 = temp[temp.purchase == 1]\n",
    "\n",
    "        class_0 = resample(class_0,\n",
    "                     replace=True,\n",
    "                     n_samples=len(class_1),\n",
    "                     random_state=123)\n",
    "\n",
    "\n",
    "        data_downsampled = pd.concat([class_0, class_1])\n",
    "\n",
    "        X_train = data_downsampled.session\n",
    "        y_train = data_downsampled.purchase\n",
    "    ### Featurization\n",
    "    ## Doing ngrams with n = 1 AND 2\n",
    "\n",
    "    one_gram, mapping_1 = encode_sessions(X_train,n=1, mapping=None)\n",
    "    two_gram, mapping_2 = encode_sessions(X_train,n=2, mapping=None)\n",
    "\n",
    "    mapping_2 = {key: value + len(mapping_1) for key,value in mapping_2.items()}\n",
    "    mapping = {**mapping_1, **mapping_2}\n",
    "    X_train = np.concatenate((one_gram, two_gram), axis=1)\n",
    "\n",
    "    # featurize X_test\n",
    "    X = np.zeros((len(X_test), len(mapping)))\n",
    "    for i, session in enumerate(X_test):\n",
    "        for ngram in ngram_featurizer(session, 1) + ngram_featurizer(session, 2):\n",
    "            try:\n",
    "                X[i, mapping[ngram]] += 1\n",
    "            except KeyError:\n",
    "                pass\n",
    "    X_test = X\n",
    "    \n",
    "    param_grid = {\n",
    "        'gamma': [0], \n",
    "        'learning_rate': [0.05], \n",
    "        'max_depth': [5, 6, 7],\n",
    "        'reg_lambda': [9.0, 10.0, 11.0],\n",
    "        'scale_pos_weight': [1]}\n",
    "\n",
    "    optimal_params = GridSearchCV(\n",
    "        estimator=XGBClassifier(objective='binary:logistic',\n",
    "                                    seed=123,\n",
    "                                    subsample=0.9,\n",
    "                                    colsample_bytree=0.5),\n",
    "        param_grid=param_grid,\n",
    "        scoring='f1',\n",
    "        verbose = 0,\n",
    "        n_jobs = 5,\n",
    "        cv = 3\n",
    "    )\n",
    "\n",
    "    optimal_params.fit(X_train,\n",
    "                      y_train,\n",
    "                      early_stopping_rounds=10,\n",
    "                      eval_metric='aucpr',\n",
    "                      eval_set=[(X_test, y_test)],\n",
    "                      verbose=False)\n",
    "    preds = optimal_params.predict(X_test)\n",
    "\n",
    "    f1 = metrics.f1_score(y_test, preds)\n",
    "    \n",
    "    #Create and return a dataframe \n",
    "    \n",
    "    output = pd.DataFrame(data=preds, columns=['Predicted Labels'])\n",
    "    output['True Labels'] = y_test\n",
    "    output['Predicted == True'] = np.where(output[\"Predicted Labels\"] == output['True Labels'], 1, 0)\n",
    "    output['Session Length'] = [len(x) for x in test_data[n_click]['X']]\n",
    "    \n",
    "    return output"
   ]
  },
  {
   "cell_type": "code",
   "execution_count": 54,
   "id": "5179ab73",
   "metadata": {
    "scrolled": true
   },
   "outputs": [],
   "source": [
    "###Dataframe output from xgboost functions for data without downsampling\n",
    "click15_nodown = xgboost_model(n_click = '15_clicks', downsample= False)\n",
    "click10_nodown = xgboost_model(n_click = '10_clicks', downsample = False)\n",
    "click5_nodown = xgboost_model(n_click = '5_clicks', downsample = False)"
   ]
  },
  {
   "cell_type": "code",
   "execution_count": 55,
   "id": "ba958ea6",
   "metadata": {},
   "outputs": [],
   "source": [
    "###Dataframe output from xgboost functions for data with downsampling\n",
    "click15_down = xgboost_model(n_click = '15_clicks', downsample = True)\n",
    "click10_down = xgboost_model(n_click = '10_clicks', downsample = True)\n",
    "clicks5_down = xgboost_model(n_click = '5_clicks', downsample = True)"
   ]
  },
  {
   "cell_type": "code",
   "execution_count": 92,
   "id": "f5f786b7",
   "metadata": {},
   "outputs": [],
   "source": [
    "#### Save data frames as csv files for R code\n",
    "click15_down.to_csv(r'C:\\Users\\Sam\\OneDrive\\Escritorio\\Customer Data\\Project Results\\15_clicks_downsampled.csv')\n",
    "click10_down.to_csv(r'C:\\Users\\Sam\\OneDrive\\Escritorio\\Customer Data\\Project Results\\10_clicks_downsampled.csv')\n",
    "clicks5_down.to_csv(r'C:\\Users\\Sam\\OneDrive\\Escritorio\\Customer Data\\Project Results\\5_clicks_downsampled.csv')\n",
    "\n",
    "click15_nodown.to_csv(r'C:\\Users\\Sam\\OneDrive\\Escritorio\\Customer Data\\Project Results\\15_clicks_no_downsampled.csv')\n",
    "click10_nodown.to_csv(r'C:\\Users\\Sam\\OneDrive\\Escritorio\\Customer Data\\Project Results\\10_clicks_no_downsampled.csv')\n",
    "click5_nodown.to_csv(r'C:\\Users\\Sam\\OneDrive\\Escritorio\\Customer Data\\Project Results\\5_clicks_no_downsampled.csv')\n"
   ]
  },
  {
   "cell_type": "code",
   "execution_count": 56,
   "id": "6fafd9ae",
   "metadata": {},
   "outputs": [
    {
     "name": "stdout",
     "output_type": "stream",
     "text": [
      "F1 scores:  0.165359477124183 0.1263318112633181 0.09165867689357622\n"
     ]
    },
    {
     "data": {
      "image/png": "[encoded data removed]",
      "text/plain": [
       "<Figure size 432x288 with 1 Axes>"
      ]
     },
     "metadata": {
      "needs_background": "light"
     },
     "output_type": "display_data"
    }
   ],
   "source": [
    "##Plot for not resampled data\n",
    "import sklearn.metrics\n",
    "\n",
    "f1_15 = metrics.f1_score(click15_nodown['True Labels'], click15_nodown['Predicted Labels'])\n",
    "f1_10 = metrics.f1_score(click10_nodown['True Labels'], click10_nodown['Predicted Labels'])\n",
    "f1_5 = metrics.f1_score(click5_nodown['True Labels'], click5_nodown['Predicted Labels'])\n",
    "print('F1 scores: ', f1_15, f1_10, f1_5)\n",
    "w = 0.3\n",
    "clicks = ['15 Clicks', '10 Clicks', '5 Clicks']\n",
    "f1s = [f1_15, f1_10, f1_5]\n",
    "ax = plt.subplot()\n",
    "ax.bar(clicks, f1s, width=w, color='b', align='center'), plt.title('F1 Scores For Regular Data')\n",
    "plt.show()"
   ]
  },
  {
   "cell_type": "code",
   "execution_count": 57,
   "id": "81f146e3",
   "metadata": {},
   "outputs": [
    {
     "name": "stdout",
     "output_type": "stream",
     "text": [
      "F1 scores:  0.391506303915063 0.38799116997792493 0.36061840843720033\n"
     ]
    },
    {
     "data": {
      "image/png": "[encoded data removed]",
      "text/plain": [
       "<Figure size 432x288 with 1 Axes>"
      ]
     },
     "metadata": {
      "needs_background": "light"
     },
     "output_type": "display_data"
    }
   ],
   "source": [
    "####Plot for Resampled Data\n",
    "f1_15_2 = metrics.f1_score(click15_down['True Labels'], click15_down['Predicted Labels'])\n",
    "f1_10_2 = metrics.f1_score(click10_down['True Labels'], click10_down['Predicted Labels'])\n",
    "f1_5_2 = metrics.f1_score(clicks5_down['True Labels'], clicks5_down['Predicted Labels'])\n",
    "\n",
    "print('F1 scores: ', f1_15_2, f1_10_2, f1_5_2)\n",
    "w = 0.3\n",
    "clicks = ['15 Clicks', '10 Clicks', '5 Clicks']\n",
    "f1s_2 = [f1_15_2, f1_10_2, f1_5_2]\n",
    "ax = plt.subplot()\n",
    "ax.bar(clicks, f1s_2, width=w, color='g', align='center'), plt.title('F1 Scores For Resampled Data')\n",
    "plt.show()"
   ]
  },
  {
   "cell_type": "code",
   "execution_count": 58,
   "id": "7113b879",
   "metadata": {
    "scrolled": true
   },
   "outputs": [
    {
     "data": {
      "text/plain": [
       "<matplotlib.legend.Legend at 0x1449ecf1280>"
      ]
     },
     "execution_count": 58,
     "metadata": {},
     "output_type": "execute_result"
    },
    {
     "data": {
      "image/png": "[encoded data removed]",
      "text/plain": [
       "<Figure size 432x288 with 1 Axes>"
      ]
     },
     "metadata": {
      "needs_background": "light"
     },
     "output_type": "display_data"
    }
   ],
   "source": [
    "###Plot to compare resampled and regular data\n",
    "x = np.arange(3)\n",
    "fig = plt.figure()\n",
    "ax = plt.subplot()\n",
    "ax.bar(x, f1s, color = 'b', width = 0.25)\n",
    "ax.bar(x + 0.25, f1s_2, color = 'g', width = 0.25, tick_label = ['15 Clicks', '10 Clicks', '5 Clicks'])\n",
    "ax.legend(labels=['No Resample', 'Resampled'])"
   ]
  },
  {
   "cell_type": "code",
   "execution_count": 59,
   "id": "d81d501a",
   "metadata": {},
   "outputs": [
    {
     "data": {
      "image/png": "[encoded data removed]",
      "text/plain": [
       "<Figure size 432x288 with 1 Axes>"
      ]
     },
     "metadata": {
      "needs_background": "light"
     },
     "output_type": "display_data"
    }
   ],
   "source": [
    "#Mean session length + plot\n",
    "session_5 = click5_nodown['Session Length'].mean()\n",
    "session_10 = click10_nodown['Session Length'].mean()\n",
    "session_15 = click15_nodown['Session Length'].mean()\n",
    "\n",
    "w = 0.3\n",
    "sessions = [session_5, session_10, session_15]\n",
    "clicks = ['5 Clicks', '10 Clicks', '15 Clicks']\n",
    "ax = plt.subplot()\n",
    "ax.bar(clicks, sessions, width=w, color='r', align='center'), plt.title('Mean Session Length')\n",
    "plt.show()"
   ]
  },
  {
   "cell_type": "code",
   "execution_count": 78,
   "id": "8b8b001a",
   "metadata": {},
   "outputs": [],
   "source": [
    "######Return confusion matrix of the specified number of clicks\n",
    "\n",
    "def xgboost_confusion(n_clicks = '5_clicks', downsample = True):\n",
    "    \n",
    "    X_train = train_data[n_clicks]['X']\n",
    "    y_train = train_data[n_clicks]['Y']\n",
    "    X_test = test_data[n_clicks]['X']\n",
    "    y_test = test_data[n_clicks]['Y']\n",
    "    \n",
    "    if downsample == True:  ##### If downsample is set to True, this part will run and resample the data\n",
    "        ### Downsampling the training data\n",
    "        ### And keep the test data in shape\n",
    "        temp = pd.DataFrame({\"session\": X_train, 'purchase': y_train})\n",
    "\n",
    "        class_0 = temp[temp.purchase == 0]\n",
    "        class_1 = temp[temp.purchase == 1]\n",
    "\n",
    "        class_0 = resample(class_0,\n",
    "                     replace=True,\n",
    "                     n_samples=len(class_1),\n",
    "                     random_state=123)\n",
    "\n",
    "\n",
    "        data_downsampled = pd.concat([class_0, class_1])\n",
    "\n",
    "        X_train = data_downsampled.session\n",
    "        y_train = data_downsampled.purchase\n",
    "    ### Featurization\n",
    "    ## Doing ngrams with n = 1 AND 2\n",
    "\n",
    "    one_gram, mapping_1 = encode_sessions(X_train,n=1, mapping=None)\n",
    "    two_gram, mapping_2 = encode_sessions(X_train,n=2, mapping=None)\n",
    "\n",
    "    mapping_2 = {key: value + len(mapping_1) for key,value in mapping_2.items()}\n",
    "    mapping = {**mapping_1, **mapping_2}\n",
    "    X_train = np.concatenate((one_gram, two_gram), axis=1)\n",
    "\n",
    "    # featurize X_test\n",
    "    X = np.zeros((len(X_test), len(mapping)))\n",
    "    for i, session in enumerate(X_test):\n",
    "        for ngram in ngram_featurizer(session, 1) + ngram_featurizer(session, 2):\n",
    "            try:\n",
    "                X[i, mapping[ngram]] += 1\n",
    "            except KeyError:\n",
    "                pass\n",
    "    X_test = X\n",
    "    \n",
    "    param_grid = {\n",
    "        'gamma': [0], \n",
    "        'learning_rate': [0.05], \n",
    "        'max_depth': [5, 6, 7],\n",
    "        'reg_lambda': [9.0, 10.0, 11.0],\n",
    "        'scale_pos_weight': [1]}\n",
    "\n",
    "    optimal_params = GridSearchCV(\n",
    "        estimator=XGBClassifier(objective='binary:logistic',\n",
    "                                    seed=123,\n",
    "                                    subsample=0.9,\n",
    "                                    colsample_bytree=0.5),\n",
    "        param_grid=param_grid,\n",
    "        scoring='f1',\n",
    "        verbose = 0,\n",
    "        n_jobs = 5,\n",
    "        cv = 3\n",
    "    )\n",
    "\n",
    "    optimal_params.fit(X_train,\n",
    "                      y_train,\n",
    "                      early_stopping_rounds=10,\n",
    "                      eval_metric='aucpr',\n",
    "                      eval_set=[(X_test, y_test)],\n",
    "                      verbose=False)\n",
    "    preds = optimal_params.predict(X_test)\n",
    "\n",
    "    f1 = metrics.f1_score(y_test, preds)\n",
    "    \n",
    "    ## Plot the confusion metrics\n",
    "    plot_confusion_matrix(optimal_params,\n",
    "                          X_test,\n",
    "                          y_test,\n",
    "                          values_format='d')"
   ]
  },
  {
   "cell_type": "code",
   "execution_count": 79,
   "id": "e9b14cfe",
   "metadata": {},
   "outputs": [
    {
     "data": {
      "image/png": "[encoded data removed]",
      "text/plain": [
       "<Figure size 432x288 with 2 Axes>"
      ]
     },
     "metadata": {
      "needs_background": "light"
     },
     "output_type": "display_data"
    }
   ],
   "source": [
    "#####5 clicks with downsampling\n",
    "xgboost_confusion(n_clicks = '5_clicks')"
   ]
  },
  {
   "cell_type": "code",
   "execution_count": 80,
   "id": "02e7be45",
   "metadata": {},
   "outputs": [
    {
     "data": {
      "image/png": "[encoded data removed]",
      "text/plain": [
       "<Figure size 432x288 with 2 Axes>"
      ]
     },
     "metadata": {
      "needs_background": "light"
     },
     "output_type": "display_data"
    }
   ],
   "source": [
    "####10 clicks with downsampling\n",
    "xgboost_confusion('10_clicks')"
   ]
  },
  {
   "cell_type": "code",
   "execution_count": 81,
   "id": "e5eb1b83",
   "metadata": {},
   "outputs": [
    {
     "data": {
      "image/png": "[encoded data removed]",
      "text/plain": [
       "<Figure size 432x288 with 2 Axes>"
      ]
     },
     "metadata": {
      "needs_background": "light"
     },
     "output_type": "display_data"
    }
   ],
   "source": [
    "####### 15 clicks with downsampling\n",
    "xgboost_confusion('15_clicks')"
   ]
  },
  {
   "cell_type": "code",
   "execution_count": 82,
   "id": "ab84d747",
   "metadata": {},
   "outputs": [
    {
     "data": {
      "image/png": "[encoded data removed]",
      "text/plain": [
       "<Figure size 432x288 with 2 Axes>"
      ]
     },
     "metadata": {
      "needs_background": "light"
     },
     "output_type": "display_data"
    }
   ],
   "source": [
    "###### 5 clickss no downsampling\n",
    "xgboost_confusion('5_clicks', False)"
   ]
  },
  {
   "cell_type": "code",
   "execution_count": 83,
   "id": "c138e7f2",
   "metadata": {},
   "outputs": [
    {
     "data": {
      "image/png": "[encoded data removed]",
      "text/plain": [
       "<Figure size 432x288 with 2 Axes>"
      ]
     },
     "metadata": {
      "needs_background": "light"
     },
     "output_type": "display_data"
    }
   ],
   "source": [
    "###### 10 clicks no downsampling\n",
    "xgboost_confusion('10_clicks', False)"
   ]
  },
  {
   "cell_type": "code",
   "execution_count": 84,
   "id": "2a1be90e",
   "metadata": {},
   "outputs": [
    {
     "data": {
      "image/png": "[encoded data removed]",
      "text/plain": [
       "<Figure size 432x288 with 2 Axes>"
      ]
     },
     "metadata": {
      "needs_background": "light"
     },
     "output_type": "display_data"
    }
   ],
   "source": [
    "##### 15 clicks no downsampling\n",
    "xgboost_confusion('15_clicks', False)"
   ]
  },
  {
   "cell_type": "code",
   "execution_count": null,
   "id": "c42fe6cc",
   "metadata": {},
   "outputs": [],
   "source": [
    "#Save output as a csv\n",
    "path = os.path.join(wd, \"data\", \"5_clicks_no_downsample.csv\")\n",
    "output_5_clicks.to_csv(path)"
   ]
  },
  {
   "cell_type": "code",
   "execution_count": null,
   "id": "bb5e2196",
   "metadata": {},
   "outputs": [],
   "source": [
    "#Save output as a csv\n",
    "path = os.path.join(wd, \"data\", \"10_clicks_downsampled.csv\")\n",
    "output_10_clicks.to_csv(path)"
   ]
  },
  {
   "cell_type": "code",
   "execution_count": null,
   "id": "3a0aadf7",
   "metadata": {},
   "outputs": [],
   "source": [
    "#Save output as a csv\n",
    "path = os.path.join(wd, \"data\", \"15_clicks_downsampled.csv\")\n",
    "output_15_clicks.to_csv(path)"
   ]
  },
  {
   "cell_type": "markdown",
   "id": "42dc6ac9",
   "metadata": {},
   "source": [
    "## Error Analysis in R"
   ]
  },
  {
   "cell_type": "code",
   "execution_count": 64,
   "id": "55dc2659",
   "metadata": {},
   "outputs": [],
   "source": [
    "# pip install rpy2 to be able to run the following cells\n",
    "%load_ext rpy2.ipython"
   ]
  },
  {
   "cell_type": "code",
   "execution_count": null,
   "id": "b4b02d86",
   "metadata": {},
   "outputs": [],
   "source": [
    "%%R\n",
    "# install the packges if this the first time running R on jupiter\n",
    "install.packages(\"plyr\", repos='http://cran.us.r-project.org')\n",
    "install.packages(\"tidyverse\", repos='http://cran.us.r-project.org')\n",
    "install.packages(\"effects\", repos='http://cran.us.r-project.org')\n",
    "install.packages(\"broom\", repos='http://cran.us.r-project.org')"
   ]
  },
  {
   "cell_type": "code",
   "execution_count": 65,
   "id": "7bb03a4e",
   "metadata": {},
   "outputs": [
    {
     "name": "stderr",
     "output_type": "stream",
     "text": [
      "R[write to console]: -- \u001b[1mAttaching packages\u001b[22m --------------------------------------- tidyverse 1.3.1 --\n",
      "\n",
      "R[write to console]: \u001b[32mv\u001b[39m \u001b[34mggplot2\u001b[39m 3.3.5     \u001b[32mv\u001b[39m \u001b[34mpurrr  \u001b[39m 0.3.4\n",
      "\u001b[32mv\u001b[39m \u001b[34mtibble \u001b[39m 3.1.5     \u001b[32mv\u001b[39m \u001b[34mdplyr  \u001b[39m 1.0.7\n",
      "\u001b[32mv\u001b[39m \u001b[34mtidyr  \u001b[39m 1.2.0     \u001b[32mv\u001b[39m \u001b[34mstringr\u001b[39m 1.4.0\n",
      "\u001b[32mv\u001b[39m \u001b[34mreadr  \u001b[39m 2.1.2     \u001b[32mv\u001b[39m \u001b[34mforcats\u001b[39m 0.5.1\n",
      "\n",
      "R[write to console]: -- \u001b[1mConflicts\u001b[22m ------------------------------------------ tidyverse_conflicts() --\n",
      "\u001b[31mx\u001b[39m \u001b[34mdplyr\u001b[39m::\u001b[32marrange()\u001b[39m   masks \u001b[34mplyr\u001b[39m::arrange()\n",
      "\u001b[31mx\u001b[39m \u001b[34mpurrr\u001b[39m::\u001b[32mcompact()\u001b[39m   masks \u001b[34mplyr\u001b[39m::compact()\n",
      "\u001b[31mx\u001b[39m \u001b[34mdplyr\u001b[39m::\u001b[32mcount()\u001b[39m     masks \u001b[34mplyr\u001b[39m::count()\n",
      "\u001b[31mx\u001b[39m \u001b[34mdplyr\u001b[39m::\u001b[32mfailwith()\u001b[39m  masks \u001b[34mplyr\u001b[39m::failwith()\n",
      "\u001b[31mx\u001b[39m \u001b[34mdplyr\u001b[39m::\u001b[32mfilter()\u001b[39m    masks \u001b[34mstats\u001b[39m::filter()\n",
      "\u001b[31mx\u001b[39m \u001b[34mdplyr\u001b[39m::\u001b[32mid()\u001b[39m        masks \u001b[34mplyr\u001b[39m::id()\n",
      "\u001b[31mx\u001b[39m \u001b[34mdplyr\u001b[39m::\u001b[32mlag()\u001b[39m       masks \u001b[34mstats\u001b[39m::lag()\n",
      "\u001b[31mx\u001b[39m \u001b[34mdplyr\u001b[39m::\u001b[32mmutate()\u001b[39m    masks \u001b[34mplyr\u001b[39m::mutate()\n",
      "\u001b[31mx\u001b[39m \u001b[34mdplyr\u001b[39m::\u001b[32mrename()\u001b[39m    masks \u001b[34mplyr\u001b[39m::rename()\n",
      "\u001b[31mx\u001b[39m \u001b[34mdplyr\u001b[39m::\u001b[32msummarise()\u001b[39m masks \u001b[34mplyr\u001b[39m::summarise()\n",
      "\u001b[31mx\u001b[39m \u001b[34mdplyr\u001b[39m::\u001b[32msummarize()\u001b[39m masks \u001b[34mplyr\u001b[39m::summarize()\n",
      "\n",
      "R[write to console]: Loading required package: carData\n",
      "\n",
      "R[write to console]: lattice theme set by effectsTheme()\n",
      "See ?effectsTheme for details.\n",
      "\n"
     ]
    }
   ],
   "source": [
    "%%R\n",
    "\n",
    "library(plyr)\n",
    "library(tidyverse)\n",
    "library(effects)"
   ]
  },
  {
   "cell_type": "code",
   "execution_count": 66,
   "id": "834b4cbf",
   "metadata": {},
   "outputs": [
    {
     "name": "stdout",
     "output_type": "stream",
     "text": [
      "[1] \"R version 4.1.1 (2021-08-10)\"\n"
     ]
    }
   ],
   "source": [
    "%%R\n",
    "print(R.version.string)"
   ]
  },
  {
   "cell_type": "markdown",
   "id": "a9cbb11d",
   "metadata": {},
   "source": [
    "## Set the correct working directory and import the files"
   ]
  },
  {
   "cell_type": "code",
   "execution_count": 86,
   "id": "e0aca697",
   "metadata": {},
   "outputs": [],
   "source": [
    "%%R \n",
    "# set the correct working directory where the 6 csv files are stored\n",
    "\n",
    "setwd(\"C:/Users/Sam/OneDrive/Escritorio/Customer Data/Project Results/\")"
   ]
  },
  {
   "cell_type": "code",
   "execution_count": 93,
   "id": "bad6ebd7",
   "metadata": {},
   "outputs": [],
   "source": [
    "%%R\n",
    "\n",
    "X5_clicks_downsampled = read.table(\"5_clicks_downsampled.csv\", header = T, sep=',')\n",
    "X10_clicks_downsampled = read.table(\"10_clicks_downsampled.csv\", header = T, sep=',')\n",
    "X15_clicks_downsampled = read.table(\"15_clicks_downsampled.csv\", header = T, sep=',')\n",
    "\n",
    "X10_clicks_no_downsampled = read.table(\"10_clicks_no_downsampled.csv\", header = T, sep=',')\n",
    "X15_clicks_no_downsampled = read.table(\"15_clicks_no_downsampled.csv\", header = T, sep=',')\n",
    "X5_clicks_no_downsampled = read.table(\"5_clicks_no_downsampled.csv\", header = T, sep=',')"
   ]
  },
  {
   "cell_type": "code",
   "execution_count": 94,
   "id": "1410a8ea",
   "metadata": {},
   "outputs": [],
   "source": [
    "%%R\n",
    "\n",
    "# cleaning and formatting the files\n",
    "# the 5 clicks buy\n",
    "X5_clicks_downsampled$X <- NULL\n",
    "X5_clicks_downsampled$num_of_clicks <- \"5_clicks\"\n",
    "colnames(X5_clicks_downsampled)[1] <- \"Predicted_Labels\"\n",
    "colnames(X5_clicks_downsampled)[2] <- \"True_Labels\"\n",
    "colnames(X5_clicks_downsampled)[3] <- \"Accurate\"\n",
    "colnames(X5_clicks_downsampled)[4] <-  \"Session_Length\"\n",
    "\n",
    "# the 10 clicks buy\n",
    "X10_clicks_downsampled$X <- NULL\n",
    "X10_clicks_downsampled$num_of_clicks <- \"10_clicks\"\n",
    "colnames(X10_clicks_downsampled)[1] <- \"Predicted_Labels\"\n",
    "colnames(X10_clicks_downsampled)[2] <- \"True_Labels\"\n",
    "colnames(X10_clicks_downsampled)[3] <- \"Accurate\"\n",
    "colnames(X10_clicks_downsampled)[4] <-  \"Session_Length\"\n",
    "\n",
    "# the 15 clicks buy\n",
    "X15_clicks_downsampled$X <- NULL\n",
    "X15_clicks_downsampled$num_of_clicks <- \"15_clicks\"\n",
    "colnames(X15_clicks_downsampled)[1] <- \"Predicted_Labels\"\n",
    "colnames(X15_clicks_downsampled)[2] <- \"True_Labels\"\n",
    "colnames(X15_clicks_downsampled)[3] <- \"Accurate\"\n",
    "colnames(X15_clicks_downsampled)[4] <-  \"Session_Length\"\n",
    "\n",
    "\n",
    "# the 5 clicks no buy\n",
    "X5_clicks_no_downsampled$X <- NULL\n",
    "X5_clicks_no_downsampled$num_of_clicks <- \"5_clicks\"\n",
    "colnames(X5_clicks_no_downsampled)[1] <- \"Predicted_Labels\"\n",
    "colnames(X5_clicks_no_downsampled)[2] <- \"True_Labels\"\n",
    "colnames(X5_clicks_no_downsampled)[3] <- \"Accurate\"\n",
    "colnames(X5_clicks_no_downsampled)[4] <-  \"Session_Length\"\n",
    "\n",
    "# the 10 clicks no buy\n",
    "X10_clicks_no_downsampled$X <- NULL\n",
    "X10_clicks_no_downsampled$num_of_clicks <- \"10_clicks\"\n",
    "colnames(X10_clicks_no_downsampled)[1] <- \"Predicted_Labels\"\n",
    "colnames(X10_clicks_no_downsampled)[2] <- \"True_Labels\"\n",
    "colnames(X10_clicks_no_downsampled)[3] <- \"Accurate\"\n",
    "colnames(X10_clicks_no_downsampled)[4] <-  \"Session_Length\"\n",
    "\n",
    "# the 15 clicks no buy\n",
    "X15_clicks_no_downsampled$X <- NULL\n",
    "X15_clicks_no_downsampled$num_of_clicks <- \"15_clicks\"\n",
    "colnames(X15_clicks_no_downsampled)[1] <- \"Predicted_Labels\"\n",
    "colnames(X15_clicks_no_downsampled)[2] <- \"True_Labels\"\n",
    "colnames(X15_clicks_no_downsampled)[3] <- \"Accurate\"\n",
    "colnames(X15_clicks_no_downsampled)[4] <-  \"Session_Length\"\n"
   ]
  },
  {
   "cell_type": "markdown",
   "id": "0de45c11-b772-4a5d-99e0-ac9c5bdf34ea",
   "metadata": {},
   "source": [
    "## Combining the data frames"
   ]
  },
  {
   "cell_type": "code",
   "execution_count": 95,
   "id": "a8bf7574-b31a-49b0-bc12-383eb7a146b2",
   "metadata": {},
   "outputs": [
    {
     "name": "stdout",
     "output_type": "stream",
     "text": [
      "  Predicted_Labels True_Labels Accurate Session_Length num_of_clicks\n",
      "1                0           0        1             28      5_clicks\n",
      "2                1           0        0             10      5_clicks\n",
      "3                1           0        0              8      5_clicks\n",
      "4                1           0        0             15      5_clicks\n",
      "5                0           0        1             35      5_clicks\n",
      "6                1           0        0              8      5_clicks\n"
     ]
    }
   ],
   "source": [
    "%%R\n",
    "\n",
    "# combine the 6 data frames to two buy and no_buy data frames\n",
    "buy <- rbind(X5_clicks_downsampled, X10_clicks_downsampled, X15_clicks_downsampled)\n",
    "no_buy <- rbind(X5_clicks_no_downsampled, X10_clicks_no_downsampled, X15_clicks_no_downsampled)\n",
    "\n",
    "head(buy)"
   ]
  },
  {
   "cell_type": "markdown",
   "id": "473a3b91-7799-42b6-bf50-b298120ca3df",
   "metadata": {},
   "source": [
    "## Fitting the data frames in a logistic regression"
   ]
  },
  {
   "cell_type": "code",
   "execution_count": 96,
   "id": "67fa4f7a-0b9f-4051-9511-40eec09a17df",
   "metadata": {},
   "outputs": [],
   "source": [
    "%%R\n",
    "\n",
    "# test the logistic regression on the buy and no_buy data frames\n",
    "buy_glm.fit <- glm(Accurate ~ True_Labels + Session_Length + num_of_clicks, data = buy, family = binomial)\n",
    "no_buy_glm.fit <- glm(Accurate ~ True_Labels + Session_Length + num_of_clicks, data = no_buy, family = binomial)"
   ]
  },
  {
   "cell_type": "code",
   "execution_count": 97,
   "id": "a2518a8b-6817-4a34-ae78-3817100cd7b1",
   "metadata": {
    "scrolled": true
   },
   "outputs": [
    {
     "name": "stdout",
     "output_type": "stream",
     "text": [
      "\n",
      "Call:\n",
      "glm(formula = Accurate ~ True_Labels + Session_Length + num_of_clicks, \n",
      "    family = binomial, data = buy)\n",
      "\n",
      "Deviance Residuals: \n",
      "    Min       1Q   Median       3Q      Max  \n",
      "-1.4924  -1.3108   0.9531   1.0257   1.2317  \n",
      "\n",
      "Coefficients:\n",
      "                         Estimate Std. Error z value Pr(>|z|)    \n",
      "(Intercept)             0.4815147  0.0221118  21.776  < 2e-16 ***\n",
      "True_Labels             0.1167423  0.0221257   5.276 1.32e-07 ***\n",
      "Session_Length         -0.0037844  0.0006385  -5.927 3.09e-09 ***\n",
      "num_of_clicks15_clicks  0.1779631  0.0243949   7.295 2.98e-13 ***\n",
      "num_of_clicks5_clicks  -0.1429201  0.0204401  -6.992 2.71e-12 ***\n",
      "---\n",
      "Signif. codes:  0 '***' 0.001 '**' 0.01 '*' 0.05 '.' 0.1 ' ' 1\n",
      "\n",
      "(Dispersion parameter for binomial family taken to be 1)\n",
      "\n",
      "    Null deviance: 74280  on 55096  degrees of freedom\n",
      "Residual deviance: 74059  on 55092  degrees of freedom\n",
      "AIC: 74069\n",
      "\n",
      "Number of Fisher Scoring iterations: 4\n",
      "\n"
     ]
    }
   ],
   "source": [
    "%%R\n",
    "\n",
    "# summerizing the result for the buy group\n",
    "summary(buy_glm.fit)"
   ]
  },
  {
   "cell_type": "code",
   "execution_count": 98,
   "id": "09003f51-a7a0-481a-9410-3687051bf1bb",
   "metadata": {
    "scrolled": true
   },
   "outputs": [
    {
     "name": "stdout",
     "output_type": "stream",
     "text": [
      "\n",
      "Call:\n",
      "glm(formula = Accurate ~ True_Labels + Session_Length + num_of_clicks, \n",
      "    family = binomial, data = no_buy)\n",
      "\n",
      "Deviance Residuals: \n",
      "    Min       1Q   Median       3Q      Max  \n",
      "-2.9136   0.1742   0.1776   0.1835   2.3360  \n",
      "\n",
      "Coefficients:\n",
      "                         Estimate Std. Error  z value Pr(>|z|)    \n",
      "(Intercept)             4.1280764  0.0717136   57.563   <2e-16 ***\n",
      "True_Labels            -6.7294890  0.0538107 -125.059   <2e-16 ***\n",
      "Session_Length          0.0007378  0.0019533    0.378    0.706    \n",
      "num_of_clicks15_clicks  0.0297892  0.0739896    0.403    0.687    \n",
      "num_of_clicks5_clicks  -0.0646044  0.0633097   -1.020    0.308    \n",
      "---\n",
      "Signif. codes:  0 '***' 0.001 '**' 0.01 '*' 0.05 '.' 0.1 ' ' 1\n",
      "\n",
      "(Dispersion parameter for binomial family taken to be 1)\n",
      "\n",
      "    Null deviance: 54344  on 55096  degrees of freedom\n",
      "Residual deviance: 12656  on 55092  degrees of freedom\n",
      "AIC: 12666\n",
      "\n",
      "Number of Fisher Scoring iterations: 7\n",
      "\n"
     ]
    }
   ],
   "source": [
    "%%R\n",
    "\n",
    "# summerizing the result for the on_buy group\n",
    "summary(no_buy_glm.fit)"
   ]
  },
  {
   "cell_type": "markdown",
   "id": "d2e6e861-4e98-4710-82e5-d737b70a15dc",
   "metadata": {},
   "source": [
    "## Making the plots"
   ]
  },
  {
   "cell_type": "code",
   "execution_count": 99,
   "id": "8a2b0b6d-65fc-4b40-9162-9b5548b4c623",
   "metadata": {},
   "outputs": [],
   "source": [
    "%%R\n",
    "\n",
    "# create the buy_plot \n",
    "buy_glm.fit.effects = as.data.frame(\n",
    "  Effect(c(\"True_Labels\", \"Session_Length\", \"num_of_clicks\"), buy_glm.fit,\n",
    "         xlevels = list(Session_Length=sort(unique(buy$Session_Length))), \n",
    "         confidence.level=.99))\n",
    "\n",
    "buy_glm.fit.effects$num_of_clicks =factor(buy_glm.fit.effects$num_of_clicks, \n",
    "                                      levels = c(\"5_clicks\", \"10_clicks\", \"15_clicks\"))\n",
    "\n",
    "\n",
    "buy_plot <- ggplot(data = buy_glm.fit.effects, aes(Session_Length, fit, color=num_of_clicks, fill=num_of_clicks)) +\n",
    "                    geom_smooth() +\n",
    "                    labs(y = 'Accuracy', x = \"sequence length\") +\n",
    "                    ggtitle(\"buy_plot = uracy as a function of length, for diffrent numbers of clicks\") +\n",
    "                    scale_y_continuous(limits = c(0,1)) + \n",
    "                    scale_x_continuous(limits = c(5, 160)) +\n",
    "                    theme(legend.direction = \"horizontal\", legend.position = \"bottom\", legend.box = \"horizontal\", legend.key.height = unit(0.5, \"cm\"), legend.key.width = unit(1, \"cm\"))"
   ]
  },
  {
   "cell_type": "code",
   "execution_count": 100,
   "id": "79dd8dba-3555-414e-b0a5-d38ce6df2122",
   "metadata": {},
   "outputs": [],
   "source": [
    "%%R\n",
    "\n",
    "# create the no_buy_plot \n",
    "no_buy_glm.fit.effects = as.data.frame(\n",
    "  Effect(c(\"True_Labels\", \"Session_Length\", \"num_of_clicks\"), no_buy_glm.fit,\n",
    "         xlevels = list(Session_Length=sort(unique(no_buy$Session_Length))), \n",
    "         confidence.level=.99))\n",
    "\n",
    "no_buy_glm.fit.effects$num_of_clicks =factor(no_buy_glm.fit.effects$num_of_clicks, \n",
    "                                      levels = c(\"5_clicks\", \"10_clicks\", \"15_clicks\"))\n",
    "\n",
    "\n",
    "no_buy_plot <- ggplot(data = no_buy_glm.fit.effects, aes(Session_Length, fit, color=num_of_clicks, fill=num_of_clicks)) +\n",
    "                    geom_smooth() +\n",
    "                    labs(y = 'Accuracy', x = \"sequence length\") +\n",
    "                    ggtitle(\"no_buy_plot = Accuracy as a function of length, for diffrent numbers of clicks\") +\n",
    "                    scale_y_continuous(limits = c(0,1)) + \n",
    "                    scale_x_continuous(limits = c(5, 160)) +\n",
    "                    theme(legend.direction = \"horizontal\", legend.position = \"bottom\", legend.box = \"horizontal\", legend.key.height = unit(0.5, \"cm\"), legend.key.width = unit(1, \"cm\"))"
   ]
  },
  {
   "cell_type": "markdown",
   "id": "3499f918-e7ab-43a9-b3d9-99454471f4f0",
   "metadata": {},
   "source": [
    "## Printing the Plots"
   ]
  },
  {
   "cell_type": "code",
   "execution_count": 101,
   "id": "a5ee5553-a725-4c16-9bb0-f4a4c2c69419",
   "metadata": {},
   "outputs": [
    {
     "name": "stderr",
     "output_type": "stream",
     "text": [
      "R[write to console]: `geom_smooth()` using method = 'loess' and formula 'y ~ x'\n",
      "\n"
     ]
    },
    {
     "data": {
      "image/png": "[encoded data removed]"
     },
     "metadata": {},
     "output_type": "display_data"
    }
   ],
   "source": [
    "%%R\n",
    "# print the plot\n",
    "buy_plot"
   ]
  },
  {
   "cell_type": "code",
   "execution_count": 102,
   "id": "7dff5f0f-5cce-47af-9e74-ef1077066375",
   "metadata": {
    "scrolled": false
   },
   "outputs": [
    {
     "name": "stderr",
     "output_type": "stream",
     "text": [
      "R[write to console]: `geom_smooth()` using method = 'loess' and formula 'y ~ x'\n",
      "\n"
     ]
    },
    {
     "data": {
      "image/png": "[encoded data removed]"
     },
     "metadata": {},
     "output_type": "display_data"
    }
   ],
   "source": [
    "%%R\n",
    "\n",
    "# print the plot\n",
    "no_buy_plot"
   ]
  }
 ],
 "metadata": {
  "kernelspec": {
   "display_name": "Python 3",
   "language": "python",
   "name": "python3"
  },
  "language_info": {
   "codemirror_mode": {
    "name": "ipython",
    "version": 3
   },
   "file_extension": ".py",
   "mimetype": "text/x-python",
   "name": "python",
   "nbconvert_exporter": "python",
   "pygments_lexer": "ipython3",
   "version": "3.8.8"
  },
  "toc": {
   "base_numbering": 1,
   "nav_menu": {},
   "number_sections": true,
   "sideBar": true,
   "skip_h1_title": true,
   "title_cell": "Table of Contents",
   "title_sidebar": "Contents",
   "toc_cell": false,
   "toc_position": {},
   "toc_section_display": true,
   "toc_window_display": true
  }
 },
 "nbformat": 4,
 "nbformat_minor": 5
}
